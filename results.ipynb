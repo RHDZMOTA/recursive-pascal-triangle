{
 "cells": [
  {
   "cell_type": "markdown",
   "metadata": {},
   "source": [
    "# Naive Recursive Pascal Triangle"
   ]
  },
  {
   "cell_type": "markdown",
   "metadata": {},
   "source": [
    "In this notebook, we explore the results of running a naive recursive algorithm for the Pascal triangle with exponential complexity in both python and scala.\n",
    "\n",
    "The code used for both languages was equivalent. Each script was run sequentially for Pascal triangles of depth ranging from 0 to 32 with a redundancy of 5. \n",
    "\n",
    "For **python**:\n",
    "\n",
    "```python\n",
    "import sys\n",
    "\n",
    "def pascal_triangle(level, line=0, print_flag=True):\n",
    "    def elem(i, j):\n",
    "        return 1 if (j >= i or j == 0) else elem(i-1, j-1) + elem(i-1, j)\n",
    "    format_line = \" \".join([str(elem(line, j)) for j in range(line+1)])\n",
    "    if print_flag:\n",
    "        print(format_line)\n",
    "    if line < level:\n",
    "        pascal_triangle(level, line+1, print_flag)\n",
    "\n",
    "def main():\n",
    "    levels = int(sys.argv[1])\n",
    "    flag = \"-print\" in \" \".join(sys.argv)\n",
    "    if levels < 0:\n",
    "        raise ValueError(\"Argument must be greater than zero.\")\n",
    "    pascal_triangle(levels, print_flag=flag)\n",
    "\n",
    "\n",
    "if __name__ == \"__main__\":\n",
    "    main()\n",
    "```\n",
    "\n",
    "For **scala**:\n",
    "```scala\n",
    "\n",
    "object PascalTriangle {\n",
    "\n",
    "  def main(args: Array[String]): Unit = {\n",
    "    val levels: Int = args(0).toInt\n",
    "    val printFlag: Boolean = args mkString \" \" contains \"-print\"\n",
    "    pascalTriangle(levels, 0, printFlag)\n",
    "  }\n",
    "\n",
    "  def pascalTriangle(level: Int, line: Int = 0, printFlag: Boolean = true): Unit = {\n",
    "    def elem(i: Int, j: Int): Int = \n",
    "      if (j >= i || j == 0) 1 else elem(i-1, j-1) + elem(i-1, j)\n",
    "    val formatLine: String = (0 to line) map {elem(line, _).toString} mkString \" \"\n",
    "    if (printFlag) println(formatLine)\n",
    "    if (line < level) pascalTriangle(level, line+1, printFlag)\n",
    "  }\n",
    "\n",
    "}\n",
    "\n",
    "```"
   ]
  },
  {
   "cell_type": "markdown",
   "metadata": {},
   "source": [
    "## Load results"
   ]
  },
  {
   "cell_type": "markdown",
   "metadata": {},
   "source": [
    "We are going to use pandas to manipulate the data with dataframes and seaborn / matplotlib for visualizations. "
   ]
  },
  {
   "cell_type": "code",
   "execution_count": 1,
   "metadata": {},
   "outputs": [],
   "source": [
    "%matplotlib inline\n",
    "\n",
    "import pandas as pd\n",
    "import seaborn as sns\n",
    "import matplotlib.pyplot as plt"
   ]
  },
  {
   "cell_type": "markdown",
   "metadata": {},
   "source": [
    "The raw data contained in *data/results.csv* is the execution time of the Pascal Triangle program for both python and scala code with redundancy of 5. We need to aggregate this results with an average for each depth for a reliable comparison. "
   ]
  },
  {
   "cell_type": "code",
   "execution_count": 2,
   "metadata": {},
   "outputs": [
    {
     "data": {
      "text/html": [
       "<div>\n",
       "<style scoped>\n",
       "    .dataframe tbody tr th:only-of-type {\n",
       "        vertical-align: middle;\n",
       "    }\n",
       "\n",
       "    .dataframe tbody tr th {\n",
       "        vertical-align: top;\n",
       "    }\n",
       "\n",
       "    .dataframe thead th {\n",
       "        text-align: right;\n",
       "    }\n",
       "</style>\n",
       "<table border=\"1\" class=\"dataframe\">\n",
       "  <thead>\n",
       "    <tr style=\"text-align: right;\">\n",
       "      <th></th>\n",
       "      <th>lang</th>\n",
       "      <th>method</th>\n",
       "      <th>depth</th>\n",
       "      <th>duration</th>\n",
       "    </tr>\n",
       "  </thead>\n",
       "  <tbody>\n",
       "    <tr>\n",
       "      <th>0</th>\n",
       "      <td>scala</td>\n",
       "      <td>naive</td>\n",
       "      <td>0</td>\n",
       "      <td>3.761934</td>\n",
       "    </tr>\n",
       "    <tr>\n",
       "      <th>1</th>\n",
       "      <td>scala</td>\n",
       "      <td>naive</td>\n",
       "      <td>0</td>\n",
       "      <td>1.167530</td>\n",
       "    </tr>\n",
       "    <tr>\n",
       "      <th>2</th>\n",
       "      <td>scala</td>\n",
       "      <td>naive</td>\n",
       "      <td>0</td>\n",
       "      <td>0.875052</td>\n",
       "    </tr>\n",
       "    <tr>\n",
       "      <th>3</th>\n",
       "      <td>scala</td>\n",
       "      <td>naive</td>\n",
       "      <td>0</td>\n",
       "      <td>0.817027</td>\n",
       "    </tr>\n",
       "    <tr>\n",
       "      <th>4</th>\n",
       "      <td>scala</td>\n",
       "      <td>naive</td>\n",
       "      <td>0</td>\n",
       "      <td>0.827974</td>\n",
       "    </tr>\n",
       "  </tbody>\n",
       "</table>\n",
       "</div>"
      ],
      "text/plain": [
       "    lang method  depth  duration\n",
       "0  scala  naive      0  3.761934\n",
       "1  scala  naive      0  1.167530\n",
       "2  scala  naive      0  0.875052\n",
       "3  scala  naive      0  0.817027\n",
       "4  scala  naive      0  0.827974"
      ]
     },
     "execution_count": 2,
     "metadata": {},
     "output_type": "execute_result"
    }
   ],
   "source": [
    "# Read data into a pandas dataframe\n",
    "\n",
    "data = pd.read_csv(\"data/results.csv\", header=None).rename(columns={\n",
    "    0: \"lang\", \n",
    "    1: \"method\", \n",
    "    2: \"depth\", \n",
    "    3: \"duration\"\n",
    "})\n",
    "\n",
    "data.head()"
   ]
  },
  {
   "cell_type": "markdown",
   "metadata": {},
   "source": [
    "We can aggregate the data using the groupby method for the columns {lang, depth}. "
   ]
  },
  {
   "cell_type": "code",
   "execution_count": 3,
   "metadata": {},
   "outputs": [
    {
     "data": {
      "text/html": [
       "<div>\n",
       "<style scoped>\n",
       "    .dataframe tbody tr th:only-of-type {\n",
       "        vertical-align: middle;\n",
       "    }\n",
       "\n",
       "    .dataframe tbody tr th {\n",
       "        vertical-align: top;\n",
       "    }\n",
       "\n",
       "    .dataframe thead th {\n",
       "        text-align: right;\n",
       "    }\n",
       "</style>\n",
       "<table border=\"1\" class=\"dataframe\">\n",
       "  <thead>\n",
       "    <tr style=\"text-align: right;\">\n",
       "      <th></th>\n",
       "      <th>lang</th>\n",
       "      <th>depth</th>\n",
       "      <th>duration</th>\n",
       "    </tr>\n",
       "  </thead>\n",
       "  <tbody>\n",
       "    <tr>\n",
       "      <th>0</th>\n",
       "      <td>python</td>\n",
       "      <td>0</td>\n",
       "      <td>0.075371</td>\n",
       "    </tr>\n",
       "    <tr>\n",
       "      <th>1</th>\n",
       "      <td>python</td>\n",
       "      <td>1</td>\n",
       "      <td>0.012920</td>\n",
       "    </tr>\n",
       "    <tr>\n",
       "      <th>2</th>\n",
       "      <td>python</td>\n",
       "      <td>2</td>\n",
       "      <td>0.011636</td>\n",
       "    </tr>\n",
       "    <tr>\n",
       "      <th>3</th>\n",
       "      <td>python</td>\n",
       "      <td>3</td>\n",
       "      <td>0.011465</td>\n",
       "    </tr>\n",
       "    <tr>\n",
       "      <th>4</th>\n",
       "      <td>python</td>\n",
       "      <td>4</td>\n",
       "      <td>0.012607</td>\n",
       "    </tr>\n",
       "  </tbody>\n",
       "</table>\n",
       "</div>"
      ],
      "text/plain": [
       "     lang  depth  duration\n",
       "0  python      0  0.075371\n",
       "1  python      1  0.012920\n",
       "2  python      2  0.011636\n",
       "3  python      3  0.011465\n",
       "4  python      4  0.012607"
      ]
     },
     "execution_count": 3,
     "metadata": {},
     "output_type": "execute_result"
    }
   ],
   "source": [
    "average_data = data.groupby([\"lang\", \"depth\"]).mean().reset_index()\n",
    "average_data.head()"
   ]
  },
  {
   "cell_type": "markdown",
   "metadata": {},
   "source": [
    "Now each row in the dataframe represents the average time of execution for a given depth in python or scala."
   ]
  },
  {
   "cell_type": "markdown",
   "metadata": {},
   "source": [
    "## Execution Time"
   ]
  },
  {
   "cell_type": "markdown",
   "metadata": {},
   "source": [
    "We begin by plotting the execution time of the algorithms. "
   ]
  },
  {
   "cell_type": "code",
   "execution_count": 4,
   "metadata": {
    "scrolled": true
   },
   "outputs": [
    {
     "data": {
      "image/png": "[encoded data removed]",
      "text/plain": [
       "<Figure size 502.75x216 with 1 Axes>"
      ]
     },
     "metadata": {},
     "output_type": "display_data"
    }
   ],
   "source": [
    "fg = sns.FacetGrid(data=average_data, hue='lang', aspect=2)\n",
    "fg.map(plt.scatter, 'depth', 'duration').add_legend()\n",
    "\n",
    "plt.title(\"Execution Time (sec)\")\n",
    "plt.ylabel(\"Duration (sec)\")\n",
    "plt.xlabel(\"Depth\")\n",
    "plt.show()\n",
    "plt.close()"
   ]
  },
  {
   "cell_type": "markdown",
   "metadata": {},
   "source": [
    "The algorithm was implemented with an exponential complexity. We can see that the python code increases more \"quickly\" than the scala implementation."
   ]
  },
  {
   "cell_type": "code",
   "execution_count": 5,
   "metadata": {},
   "outputs": [
    {
     "data": {
      "image/png": "[encoded data removed]",
      "text/plain": [
       "<Figure size 502.75x216 with 1 Axes>"
      ]
     },
     "metadata": {},
     "output_type": "display_data"
    }
   ],
   "source": [
    "fg = sns.FacetGrid(data=average_data.query(\"depth < 20\"), hue='lang', aspect=2)\n",
    "fg.map(plt.scatter, 'depth', 'duration').add_legend()\n",
    "\n",
    "plt.title(\"Execution Time (sec) for depth < 20\")\n",
    "plt.ylabel(\"Duration (sec)\")\n",
    "plt.xlabel(\"Depth\")\n",
    "plt.show()\n",
    "plt.close()"
   ]
  },
  {
   "cell_type": "code",
   "execution_count": 12,
   "metadata": {},
   "outputs": [
    {
     "data": {
      "image/png": "[encoded data removed]",
      "text/plain": [
       "<Figure size 502.75x216 with 1 Axes>"
      ]
     },
     "metadata": {},
     "output_type": "display_data"
    }
   ],
   "source": [
    "fg = sns.FacetGrid(data=average_data.query(\"depth > 17 and depth < 24\"), hue='lang', aspect=2)\n",
    "fg.map(plt.scatter, 'depth', 'duration').add_legend()\n",
    "\n",
    "plt.title(\"Execution Time (sec) for depth > 17 AND depth < 24\")\n",
    "plt.ylabel(\"Duration (sec)\")\n",
    "plt.xlabel(\"Depth\")\n",
    "plt.show()\n",
    "plt.close()"
   ]
  },
  {
   "cell_type": "markdown",
   "metadata": {},
   "source": [
    "Nonetheless, at lower depth levels, the python implementation runs faster. "
   ]
  },
  {
   "cell_type": "markdown",
   "metadata": {},
   "source": [
    "## Stats"
   ]
  },
  {
   "cell_type": "code",
   "execution_count": 6,
   "metadata": {},
   "outputs": [
    {
     "data": {
      "image/png": "[encoded data removed]",
      "text/plain": [
       "<Figure size 432x288 with 1 Axes>"
      ]
     },
     "metadata": {},
     "output_type": "display_data"
    },
    {
     "name": "stdout",
     "output_type": "stream",
     "text": [
      "Python is 47.99 times slower than Scala.\n"
     ]
    }
   ],
   "source": [
    "total_duration = average_data.groupby(\"lang\").duration.sum()\n",
    "\n",
    "total_duration.plot.bar()\n",
    "plt.title(\"Total duration\")\n",
    "plt.ylabel(\"seconds\")\n",
    "plt.show()\n",
    "\n",
    "pysc_ratio = total_duration[\"python\"] / total_duration[\"scala\"]\n",
    "print(\"Python is %0.2f times \" % pysc_ratio + (\"slower\" if pysc_ratio > 1 else \"faster\") + \" than Scala.\")"
   ]
  },
  {
   "cell_type": "code",
   "execution_count": 7,
   "metadata": {},
   "outputs": [
    {
     "data": {
      "image/png": "[encoded data removed]",
      "text/plain": [
       "<Figure size 432x288 with 1 Axes>"
      ]
     },
     "metadata": {},
     "output_type": "display_data"
    }
   ],
   "source": [
    "python_data = average_data.query(\"lang == 'python'\").sort_values(\"depth\").reset_index(drop=True)\n",
    "scala_data = average_data.query(\"lang == 'scala'\").sort_values(\"depth\").reset_index(drop=True)\n",
    "\n",
    "ratio = (python_data.duration / scala_data.duration).to_frame().rename(columns={\"duration\": \"ratio\"})\n",
    "\n",
    "\n",
    "\n",
    "ratio.plot()\n",
    "plt.title(\"Ratio: python / scala execution time\")\n",
    "plt.ylabel(\"ratio value\")\n",
    "plt.xlabel(\"depth\")\n",
    "\n",
    "plt.hlines(y=0, xmin=0, xmax=32)\n",
    "plt.hlines(y=1, xmin=0, xmax=32, label=\"y=1\",color=\"blue\", alpha=0.2)\n",
    "\n",
    "plt.legend()\n",
    "plt.show()"
   ]
  },
  {
   "cell_type": "code",
   "execution_count": null,
   "metadata": {},
   "outputs": [],
   "source": []
  },
  {
   "cell_type": "code",
   "execution_count": null,
   "metadata": {},
   "outputs": [],
   "source": []
  }
 ],
 "metadata": {
  "kernelspec": {
   "display_name": "Python 3",
   "language": "python",
   "name": "python3"
  },
  "language_info": {
   "codemirror_mode": {
    "name": "ipython",
    "version": 3
   },
   "file_extension": ".py",
   "mimetype": "text/x-python",
   "name": "python",
   "nbconvert_exporter": "python",
   "pygments_lexer": "ipython3",
   "version": "3.6.3"
  }
 },
 "nbformat": 4,
 "nbformat_minor": 2
}
